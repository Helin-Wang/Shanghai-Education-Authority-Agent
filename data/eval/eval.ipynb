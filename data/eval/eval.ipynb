{
 "cells": [
  {
   "cell_type": "code",
   "execution_count": 3,
   "id": "459349be",
   "metadata": {},
   "outputs": [
    {
     "name": "stdout",
     "output_type": "stream",
     "text": [
      "                                  question  \\\n",
      "0                            20XX年高考大报名时间？   \n",
      "1                     考生今年高三怎么报名参加20XX年高考？   \n",
      "2  考生是复读生，怎么报名参加20XX年高考？（往届生、返沪生、社会生如何报名？）   \n",
      "3                              秋考报名的网址是什么？   \n",
      "4                         报名完成后如何确定报名是否成功？   \n",
      "\n",
      "                                              answer         type  \\\n",
      "0  考生信息采集时间一般是在每年的10月份，报名详细信息以每年上海招考热线发布的公告为准。注：2...         TIME   \n",
      "1  本市学籍应届高中阶段毕业生〔高中、中等职业技术学校（含中专、职校和技校）〕由学籍所在学校集中...      PROCESS   \n",
      "2  非本市应届高中阶段毕业生（往届生、非本市学籍应届生等）自主登录上海招考热线网站进行报名，按不...  ELIGIBILITY   \n",
      "3  凡符合上海市普通高校考试招生报名条件的考生须在规定时间里通过“上海招考热线”网站（www.s...     LOCATION   \n",
      "4                                      报名成功之后会获得流水号。      PROCESS   \n",
      "\n",
      "  detailed_type  confidence                                         rationale  \n",
      "0          报名时间        0.95                      问题询问的是高考大报名的具体时间，属于报名流程的一部分。  \n",
      "1          报名流程        0.95               问题主要关注高三学生如何报名参加20XX年的高考，涉及具体的报名流程。  \n",
      "2       往届生报名流程        0.95                 问题主要询问了往届生如何报名参加高考，涉及到具体的报名流程和条件。  \n",
      "3          报名网址        0.95  问题询问的是秋考报名的网址，属于报名网址的具体信息，符合LOCATION类别下的报名网址子类别。  \n",
      "4        报名确认流程        0.95    问题询问报名完成后的确认流程，具体涉及到如何确定报名是否成功，需要通过获得流水号来进行确认。  \n"
     ]
    }
   ],
   "source": [
    "# load faq\n",
    "\n",
    "import pandas as pd\n",
    "\n",
    "filepath = '/Users/wanghelin/Documents/Shanghai-Education-Authority-Agent/data/eval/extracted_qatype_v0.csv'\n",
    "df = pd.read_csv(filepath)\n",
    "print(df.head())"
   ]
  },
  {
   "cell_type": "code",
   "execution_count": 13,
   "id": "de43166f",
   "metadata": {},
   "outputs": [
    {
     "data": {
      "text/plain": [
       "(1078, 6)"
      ]
     },
     "execution_count": 13,
     "metadata": {},
     "output_type": "execute_result"
    }
   ],
   "source": [
    "df.shape"
   ]
  },
  {
   "cell_type": "code",
   "execution_count": 9,
   "id": "dd017165",
   "metadata": {},
   "outputs": [],
   "source": [
    "# strip\n",
    "df['type'] = df['type'].str.strip()\n",
    "df['detailed_type'] = df['detailed_type'].str.strip()"
   ]
  },
  {
   "cell_type": "code",
   "execution_count": null,
   "id": "cf84088b",
   "metadata": {},
   "outputs": [],
   "source": [
    "# Merge type first"
   ]
  },
  {
   "cell_type": "code",
   "execution_count": 20,
   "id": "8e4c1877",
   "metadata": {},
   "outputs": [
    {
     "data": {
      "text/plain": [
       "type\n",
       "ELIGIBILITY              311\n",
       "TIME                     178\n",
       "RESULTS                  155\n",
       "POLICIES                 150\n",
       "PROCESS                  106\n",
       "FEES                      78\n",
       "LOCATION                  44\n",
       "DOCUMENTS                 14\n",
       "PROCESSES                  8\n",
       "EXAM                       5\n",
       "EXAMS                      4\n",
       "Policies                   3\n",
       "GENERAL_INFO               2\n",
       "PROCEDURE                  2\n",
       "CONTACT                    2\n",
       "ENROLLMENT                 2\n",
       "EXAM_FORMAT                2\n",
       "EXAMINE                    1\n",
       "COLLEGES_AND_PROGRAMS      1\n",
       "志愿篇                        1\n",
       "自愿                         1\n",
       "EXAM_RULES                 1\n",
       "EXAM_PATTERNS              1\n",
       "_RESULTS                   1\n",
       "EXAM_CONTENT               1\n",
       "VOLUNTEER_SETTINGS         1\n",
       "PROCESSENROLLMENT          1\n",
       "报名流程                       1\n",
       "VOLUNTEER                  1\n",
       "Name: count, dtype: int64"
      ]
     },
     "execution_count": 20,
     "metadata": {},
     "output_type": "execute_result"
    }
   ],
   "source": [
    "df['type'].value_counts()"
   ]
  },
  {
   "cell_type": "code",
   "execution_count": 14,
   "id": "29a94797",
   "metadata": {},
   "outputs": [],
   "source": [
    "# Aggregate (type, detailed_type) pairs and count the number of unique pairs\n",
    "type_set = dict()\n",
    "for index, row in df.iterrows():\n",
    "    pair = (row['type'], row['detailed_type'])\n",
    "    if pair in type_set:\n",
    "        type_set[pair] += 1\n",
    "    else:\n",
    "        type_set[pair] = 1"
   ]
  },
  {
   "cell_type": "code",
   "execution_count": 19,
   "id": "ab784897",
   "metadata": {},
   "outputs": [
    {
     "name": "stdout",
     "output_type": "stream",
     "text": [
      "592\n"
     ]
    }
   ],
   "source": [
    "# Filter out pairs with count less than 10\n",
    "# Count the pairs with count less than 10\n",
    "count_less_than_10 = 0\n",
    "for pair, count in type_set.items():\n",
    "    if count < 5:\n",
    "        count_less_than_10 += 1\n",
    "print(count_less_than_10)"
   ]
  }
 ],
 "metadata": {
  "kernelspec": {
   "display_name": "agent",
   "language": "python",
   "name": "python3"
  },
  "language_info": {
   "codemirror_mode": {
    "name": "ipython",
    "version": 3
   },
   "file_extension": ".py",
   "mimetype": "text/x-python",
   "name": "python",
   "nbconvert_exporter": "python",
   "pygments_lexer": "ipython3",
   "version": "3.10.16"
  }
 },
 "nbformat": 4,
 "nbformat_minor": 5
}
